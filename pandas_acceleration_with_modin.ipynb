{
  "nbformat": 4,
  "nbformat_minor": 0,
  "metadata": {
    "colab": {
      "name": "pandas acceleration with modin.ipynb",
      "provenance": [],
      "collapsed_sections": []
    },
    "kernelspec": {
      "display_name": "Python 3",
      "name": "python3"
    }
  },
  "cells": [
    {
      "cell_type": "code",
      "metadata": {
        "id": "OcZGoRhN83YP"
      },
      "source": [
        "!wget https://archive.ics.uci.edu/ml/machine-learning-databases/00344/Activity%20recognition%20exp.zip"
      ],
      "execution_count": null,
      "outputs": []
    },
    {
      "cell_type": "code",
      "metadata": {
        "id": "FvJFYtB09GM9"
      },
      "source": [
        "!unzip \"/content/Activity recognition exp.zip\""
      ],
      "execution_count": null,
      "outputs": []
    },
    {
      "cell_type": "code",
      "metadata": {
        "id": "cUtdn72W-Yp8"
      },
      "source": [
        "!pip install modin[all] "
      ],
      "execution_count": null,
      "outputs": []
    },
    {
      "cell_type": "code",
      "metadata": {
        "id": "C-GeNeR39hma"
      },
      "source": [
        "import pandas as pd"
      ],
      "execution_count": null,
      "outputs": []
    },
    {
      "cell_type": "code",
      "metadata": {
        "id": "zFxIUX0p9aO6"
      },
      "source": [
        "%%timeit\n",
        "data = pd.read_csv(\"/content/Activity recognition exp/Phones_accelerometer.csv\")"
      ],
      "execution_count": null,
      "outputs": []
    },
    {
      "cell_type": "code",
      "metadata": {
        "id": "8q_oQaL8-FJs"
      },
      "source": [
        "import modin.pandas as mpd"
      ],
      "execution_count": null,
      "outputs": []
    },
    {
      "cell_type": "code",
      "metadata": {
        "id": "41EQaWbg9ph4"
      },
      "source": [
        "%%timeit\n",
        "data = mpd.read_csv(\"/content/Activity recognition exp/Phones_accelerometer.csv\")"
      ],
      "execution_count": null,
      "outputs": []
    },
    {
      "cell_type": "code",
      "metadata": {
        "colab": {
          "background_save": true
        },
        "id": "4MmZ5R-u-MI9"
      },
      "source": [
        "%timeit data = pd.read_csv(\"/content/Activity recognition exp/Phones_accelerometer.csv\")\n",
        "%timeit data = mpd.read_csv(\"/content/Activity recognition exp/Phones_accelerometer.csv\")"
      ],
      "execution_count": null,
      "outputs": []
    }
  ]
}